{
  "nbformat": 4,
  "nbformat_minor": 0,
  "metadata": {
    "colab": {
      "name": "test_vggLoss.ipynb",
      "provenance": [],
      "include_colab_link": true
    },
    "kernelspec": {
      "name": "python3",
      "display_name": "Python 3"
    }
  },
  "cells": [
    {
      "cell_type": "markdown",
      "metadata": {
        "id": "view-in-github",
        "colab_type": "text"
      },
      "source": [
        "<a href=\"https://colab.research.google.com/github/jason-zl190/deeplearning/blob/master/test_vggLoss.ipynb\" target=\"_parent\"><img src=\"https://colab.research.google.com/assets/colab-badge.svg\" alt=\"Open In Colab\"/></a>"
      ]
    },
    {
      "cell_type": "code",
      "metadata": {
        "id": "sW2CSajeBVcJ",
        "colab_type": "code",
        "colab": {}
      },
      "source": [
        "import tensorflow as tf\n",
        "from tensorflow import keras\n",
        "from tensorflow.keras import models, optimizers, metrics\n",
        "from tensorflow.keras.layers import Conv2D\n",
        "from tensorflow.keras.applications.vgg19 import preprocess_input\n",
        "import numpy as np\n",
        "\n",
        "#Build Simple Model\n",
        "inputs = keras.Input(shape=(32,32,3))\n",
        "x = Conv2D(16, 3, padding = 'same', activation='relu')(inputs)\n",
        "x = Conv2D(16, 3, padding = 'same', activation='relu')(x)\n",
        "o = Conv2D( 3, 3, padding = 'same', activation='relu')(x)\n",
        "model = keras.Model(inputs=inputs, outputs=o)\n",
        "\n",
        "#Generate dummy data\n",
        "(x_train, y_train), (x_test, y_test) = keras.datasets.cifar10.load_data()\n",
        "x_train = x_train.astype('float32') / 255.\n",
        "y_train = x_train.copy()\n",
        "x_train = x_train+0.1*np.random.randn(*x_train.shape).astype('f')\n",
        "train_ds = tf.data.Dataset.from_tensor_slices(\n",
        "    (x_train, y_train)).shuffle(10000).batch(128)\n",
        "\n",
        "#Load VGG model\n",
        "vgg = tf.keras.applications.VGG19(include_top=False, weights='imagenet', input_shape = [32,32,3])\n",
        "vgg.trainable = False\n",
        "content_layers = 'block5_conv2'\n",
        "\n",
        "lossModel = models.Model([vgg.input], vgg.get_layer(content_layers).output, name = 'vggL')\n",
        "\n",
        "def lossVGG(X,Y):\n",
        "    Xt = preprocess_input(X*255)\n",
        "    Yt = preprocess_input(Y*255)\n",
        "    vggX = lossModel(Xt)\n",
        "    vggY = lossModel(Yt)\n",
        "    return tf.reduce_mean(tf.square(vggY-vggX))\n",
        "\n",
        "optimizer = optimizers.Adam(learning_rate=0.0005)\n",
        "loss = [lossVGG]\n",
        "model.compile(optimizer = optimizer, loss = loss)\n",
        "history = model.fit(train_ds, epochs = 20)"
      ],
      "execution_count": 0,
      "outputs": []
    },
    {
      "cell_type": "code",
      "metadata": {
        "id": "4TExv93NBWcb",
        "colab_type": "code",
        "colab": {}
      },
      "source": [
        ""
      ],
      "execution_count": 0,
      "outputs": []
    }
  ]
}