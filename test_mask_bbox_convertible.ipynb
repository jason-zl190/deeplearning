{
  "nbformat": 4,
  "nbformat_minor": 0,
  "metadata": {
    "colab": {
      "name": "test_mask_bbox_convertible.ipynb",
      "provenance": [],
      "include_colab_link": true
    },
    "kernelspec": {
      "name": "python3",
      "display_name": "Python 3"
    }
  },
  "cells": [
    {
      "cell_type": "markdown",
      "metadata": {
        "id": "view-in-github",
        "colab_type": "text"
      },
      "source": [
        "<a href=\"https://colab.research.google.com/github/jason-zl190/deeplearning/blob/master/test_mask_bbox_convertible.ipynb\" target=\"_parent\"><img src=\"https://colab.research.google.com/assets/colab-badge.svg\" alt=\"Open In Colab\"/></a>"
      ]
    },
    {
      "cell_type": "code",
      "metadata": {
        "id": "kA8IOuCjHs0S",
        "colab_type": "code",
        "outputId": "b7ede3d2-a76d-46b0-bd44-db4580963d13",
        "colab": {
          "base_uri": "https://localhost:8080/",
          "height": 33
        }
      },
      "source": [
        "try:\n",
        "  # %tensorflow_version only exists in Colab.\n",
        "  %tensorflow_version 2.x\n",
        "except Exception:\n",
        "  pass\n",
        "\n",
        "from __future__ import absolute_import, division, print_function, unicode_literals\n",
        "\n",
        "import tensorflow as tf\n",
        "import matplotlib.pyplot as plt\n",
        "import numpy as np"
      ],
      "execution_count": 0,
      "outputs": [
        {
          "output_type": "stream",
          "text": [
            "TensorFlow 2.x selected.\n"
          ],
          "name": "stdout"
        }
      ]
    },
    {
      "cell_type": "code",
      "metadata": {
        "id": "7tLuU7CRHzPi",
        "colab_type": "code",
        "colab": {}
      },
      "source": [
        "from matplotlib import patches"
      ],
      "execution_count": 0,
      "outputs": []
    },
    {
      "cell_type": "markdown",
      "metadata": {
        "id": "26Xr7AnMICXd",
        "colab_type": "text"
      },
      "source": [
        "# **Numpy way to draw bbox**"
      ]
    },
    {
      "cell_type": "code",
      "metadata": {
        "id": "rlCPu9WfH2kF",
        "colab_type": "code",
        "outputId": "7234f0e8-fb5b-4497-af37-4cf82f7585b0",
        "colab": {
          "base_uri": "https://localhost:8080/",
          "height": 268
        }
      },
      "source": [
        "ones = np.ones([512,512])\n",
        "bbox = [226.169-50, 90.0204, 241.252+50, 111.977+50]\n",
        "xmin, ymin, xmax, ymax = bbox\n",
        "h = xmax-xmin\n",
        "w = ymax-ymin\n",
        "fig,ax = plt.subplots(1)\n",
        "ax.imshow(ones, cmap='gray')\n",
        "\n",
        "rect = patches.Rectangle((xmin, ymin),h,w,linewidth=1,edgecolor='r',facecolor='none')\n",
        "ax.add_patch(rect)\n",
        "\n",
        "plt.show()"
      ],
      "execution_count": 0,
      "outputs": [
        {
          "output_type": "display_data",
          "data": {
            "image/png": "[encoded data removed]",
            "text/plain": [
              "<Figure size 432x288 with 1 Axes>"
            ]
          },
          "metadata": {
            "tags": []
          }
        }
      ]
    },
    {
      "cell_type": "markdown",
      "metadata": {
        "id": "jNxT2YtoIMNH",
        "colab_type": "text"
      },
      "source": [
        "# mask and bbox convert function"
      ]
    },
    {
      "cell_type": "code",
      "metadata": {
        "id": "JMOxXjm3JCxK",
        "colab_type": "code",
        "colab": {}
      },
      "source": [
        "def _convert_bbox_to_mask(bbox, image_shape):\n",
        "    \"\"\"generate a 2-d binary mask, all zeros except the bbox area\n",
        "      \n",
        "      bbox: [xmin, ymin, xmax, ymax]\n",
        "      image_shape: [height, width, depth], depth will be ignored\n",
        "      \n",
        "      return:\n",
        "        2-d binary mask, zero-initialized\n",
        "    \"\"\"\n",
        "    # numpy version: mask[ymin:ymax+1][xmin:xmax+1][:] = 1\n",
        "    xmin = tf.cast(tf.math.round(bbox[0]), dtype=tf.int32)\n",
        "    ymin = tf.cast(tf.math.round(bbox[1]), dtype=tf.int32)\n",
        "    xmax = tf.cast(tf.math.round(bbox[2]), dtype=tf.int32)\n",
        "    ymax = tf.cast(tf.math.round(bbox[3]), dtype=tf.int32)\n",
        "    \n",
        "    r_range = tf.range(xmin, xmax)\n",
        "    c_range = tf.range(ymin, ymax)\n",
        "    mesh = tf.meshgrid(r_range, c_range)\n",
        "    i_coords, j_coords = mesh\n",
        "    \n",
        "    indices = tf.stack([j_coords,i_coords], axis=2)\n",
        "    indices = tf.reshape(indices, [tf.size(i_coords),2])\n",
        "    updates = tf.ones(tf.size(i_coords), dtype=tf.int64)\n",
        "    \n",
        "    r = image_shape[0]\n",
        "    c = image_shape[1]\n",
        "    shape = [r, c]\n",
        "    mask = tf.scatter_nd(indices, updates, shape)\n",
        "#     mask = tf.tile(mask, [l,1])\n",
        "#     mask = tf.reshape(mask, [l,r,c])\n",
        "#     mask = tf.transpose(mask, [1, 2, 0])\n",
        "    \n",
        "    return mask    \n",
        "    \n",
        "    \n",
        "def _convert_mask_to_bbox(mask):\n",
        "    \"\"\"find out the bbox postion inside the mask\n",
        "    \"\"\"\n",
        "    ymin = tf.where(mask)[:,0][0]\n",
        "    ymax = tf.where(mask)[:,0][-1]\n",
        "    xmin = tf.where(mask)[:,1][0]\n",
        "    xmax = tf.where(mask)[:,1][-1]\n",
        "    return [xmin, ymin, xmax, ymax]\n",
        "  \n",
        "\n",
        "    \n",
        "def _convert_bbox_to_offset(bbox):\n",
        "    \"\"\"convert the data format\n",
        "    \n",
        "      Params:\n",
        "        bbox: [xmin, ymin, xmax, ymax]\n",
        "      return:\n",
        "        offset: [offset_height=ymin, offset_width=xmin, \n",
        "                 target_height=ymax - ymin, target_width=xmax - xmin]\n",
        "      \n",
        "    \"\"\"\n",
        "    xmin = tf.cast(tf.math.round(bbox[0]), dtype=tf.int32)\n",
        "    ymin = tf.cast(tf.math.round(bbox[1]), dtype=tf.int32)\n",
        "    xmax = tf.cast(tf.math.round(bbox[2]), dtype=tf.int32)\n",
        "    ymax = tf.cast(tf.math.round(bbox[3]), dtype=tf.int32)\n",
        "    \n",
        "    offset_height = ymin\n",
        "    offset_width = xmin\n",
        "    target_height = ymax - ymin\n",
        "    target_width = xmax - xmin\n",
        "    \n",
        "    return [offset_height, offset_width, target_height, target_width]\n",
        "  \n",
        "\n",
        "def _convert_offset_to_bbox(offset):\n",
        "    \"\"\"convert the data format\n",
        "    \n",
        "      Params:\n",
        "        offset: [offset_height, offset_width, target_height, target_width]\n",
        "      return:\n",
        "        bbox: [xmin=offset_width, ymin=offset_height, \n",
        "               xmax=target_width + offset_width, ymax=target_height + offset_height]\n",
        "      \n",
        "    \"\"\"\n",
        "    offset_height = offset[0]\n",
        "    offset_width = offset[1] \n",
        "    target_height = offset[2]\n",
        "    target_width = offset[3]\n",
        "    \n",
        "    ymin = offset_height\n",
        "    xmin = offset_width\n",
        "    ymax = target_height + offset_height\n",
        "    xmax = target_width + offset_width\n",
        "    \n",
        "    return [xmin, ymin, xmax, ymax]"
      ],
      "execution_count": 0,
      "outputs": []
    },
    {
      "cell_type": "markdown",
      "metadata": {
        "id": "AHcwgfnZSLXW",
        "colab_type": "text"
      },
      "source": [
        "# Visualization"
      ]
    },
    {
      "cell_type": "code",
      "metadata": {
        "id": "7w-2inMJH78h",
        "colab_type": "code",
        "colab": {}
      },
      "source": [
        "ones = np.ones([512,512])\n",
        "bbox = [226.169-50, 90.0204, 241.252+50, 111.977+50]\n",
        "bbox_tf = tf.constant(bbox)\n",
        "\n",
        "image = tf.convert_to_tensor(ones, np.float32)\n",
        "mask = _convert_bbox_to_mask(bbox_tf, [512, 512])\n",
        "mask = tf.cast(mask, tf.float32)\n",
        "\n",
        "stack = tf.stack([image, mask])\n",
        "stack_t = tf.keras.preprocessing.image.random_shear(stack, 30)"
      ],
      "execution_count": 0,
      "outputs": []
    },
    {
      "cell_type": "code",
      "metadata": {
        "id": "uU5YRY-zKR_w",
        "colab_type": "code",
        "outputId": "2407b56f-01a2-4f3e-a8f3-5e6eb7117367",
        "colab": {
          "base_uri": "https://localhost:8080/",
          "height": 285
        }
      },
      "source": [
        "fig,ax = plt.subplots(2, 2)\n",
        "ax[0][0].imshow(ones, cmap='gray')\n",
        "ax[0][1].imshow(mask, cmap='gray')\n",
        "ax[1][0].imshow(stack_t[0], cmap='gray')\n",
        "ax[1][1].imshow(stack_t[1], cmap='gray')"
      ],
      "execution_count": 0,
      "outputs": [
        {
          "output_type": "execute_result",
          "data": {
            "text/plain": [
              "<matplotlib.image.AxesImage at 0x7f28319086d8>"
            ]
          },
          "metadata": {
            "tags": []
          },
          "execution_count": 59
        },
        {
          "output_type": "display_data",
          "data": {
            "image/png": "[encoded data removed]",
            "text/plain": [
              "<Figure size 432x288 with 4 Axes>"
            ]
          },
          "metadata": {
            "tags": []
          }
        }
      ]
    },
    {
      "cell_type": "code",
      "metadata": {
        "id": "54BrkGdjP7Hf",
        "colab_type": "code",
        "colab": {}
      },
      "source": [
        "mask_t = stack_t[1]\n",
        "bbox_t = _convert_mask_to_bbox(mask_t)"
      ],
      "execution_count": 0,
      "outputs": []
    },
    {
      "cell_type": "code",
      "metadata": {
        "id": "UznSJd1PRCnX",
        "colab_type": "code",
        "outputId": "150a3c2c-4631-4b08-b2f8-f085a6380ded",
        "colab": {
          "base_uri": "https://localhost:8080/",
          "height": 268
        }
      },
      "source": [
        "xmin, ymin, xmax, ymax = bbox_t\n",
        "xmin = xmin.numpy()\n",
        "ymin = ymin.numpy()\n",
        "xmax = xmax.numpy()\n",
        "ymax = ymax.numpy()\n",
        "h = xmax-xmin\n",
        "w = ymax-ymin\n",
        "fig,ax = plt.subplots(1)\n",
        "ax.imshow(stack_t[1], cmap='gray')\n",
        "rect = patches.Rectangle((xmin, ymin),h,w,linewidth=1,edgecolor='r',facecolor='none')\n",
        "ax.add_patch(rect)\n",
        "\n",
        "plt.show()"
      ],
      "execution_count": 0,
      "outputs": [
        {
          "output_type": "display_data",
          "data": {
            "image/png": "[encoded data removed]",
            "text/plain": [
              "<Figure size 432x288 with 1 Axes>"
            ]
          },
          "metadata": {
            "tags": []
          }
        }
      ]
    }
  ]
}