{
  "nbformat": 4,
  "nbformat_minor": 0,
  "metadata": {
    "colab": {
      "name": "MySRResNet_Loss_MSE.ipynb",
      "provenance": [],
      "collapsed_sections": [],
      "toc_visible": true,
      "include_colab_link": true
    },
    "kernelspec": {
      "name": "python3",
      "display_name": "Python 3"
    },
    "accelerator": "GPU"
  },
  "cells": [
    {
      "cell_type": "markdown",
      "metadata": {
        "id": "view-in-github",
        "colab_type": "text"
      },
      "source": [
        "<a href=\"https://colab.research.google.com/github/jason-zl190/deeplearning/blob/master/MySRResNet_Loss_MSE.ipynb\" target=\"_parent\"><img src=\"https://colab.research.google.com/assets/colab-badge.svg\" alt=\"Open In Colab\"/></a>"
      ]
    },
    {
      "cell_type": "code",
      "metadata": {
        "id": "UIU5Ki98xpc8",
        "colab_type": "code",
        "colab": {}
      },
      "source": [
        "try:\n",
        "  # %tensorflow_version only exists in Colab.\n",
        "  %tensorflow_version 2.x\n",
        "except Exception:\n",
        "  pass\n",
        "\n",
        "from __future__ import absolute_import, division, print_function, unicode_literals\n",
        "\n",
        "import tensorflow as tf\n",
        "#tf.enable_eager_execution()\n",
        "\n",
        "from tensorflow.keras.layers import Dense, Flatten, Conv2D, MaxPooling2D\n",
        "from tensorflow.keras import Model\n",
        "\n",
        "import tensorflow_datasets as tfds\n",
        "import matplotlib.pyplot as plt\n",
        "import numpy as np"
      ],
      "execution_count": 0,
      "outputs": []
    },
    {
      "cell_type": "code",
      "metadata": {
        "id": "U0oFmNj-nsYm",
        "colab_type": "code",
        "colab": {}
      },
      "source": [
        "# TensorFlow Better Bicubic Downsample\n",
        "\n",
        "def bicubic_kernel(x, a=-0.5):\n",
        "  \"\"\"https://clouard.users.greyc.fr/Pantheon/experiments/rescaling/index-en.html#bicubic\"\"\"\n",
        "  if abs(x) <= 1:\n",
        "    return (a + 2)*abs(x)**3 - (a + 3)*abs(x)**2 + 1\n",
        "  elif 1 < abs(x) and abs(x) < 2:\n",
        "    return a*abs(x)**3 - 5*a*abs(x)**2 + 8*a*abs(x) - 4*a \n",
        "  else:\n",
        "    return 0\n",
        "\n",
        "def build_filter(factor):\n",
        "  size = factor*4\n",
        "  k = np.zeros((size))\n",
        "  for i in range(size):\n",
        "    x = (1/factor)*(i- np.floor(size/2) +0.5)\n",
        "    k[i] = bicubic_kernel(x)\n",
        "  k = k / np.sum(k)\n",
        "  # make 2d\n",
        "  k = np.outer(k, k.T)\n",
        "  k = tf.constant(k, dtype=tf.float32, shape=(size, size, 1, 1))\n",
        "  return tf.concat([k, k, k], axis=2)\n",
        "\n",
        "def apply_bicubic_downsample(x, filter, factor):\n",
        "  \"\"\"Downsample x by a factor of factor, using the filter built by build_filter()\n",
        "  x: a rank 4 tensor with format NHWC\n",
        "  filter: from build_filter(factor)\n",
        "  factor: downsampling factor (ex: factor=2 means the output size is (h/2, w/2))\n",
        "  \"\"\"\n",
        "  # using padding calculations from https://www.tensorflow.org/api_guides/python/nn#Convolution\n",
        "  filter_height = factor*4\n",
        "  filter_width = factor*4\n",
        "  strides = factor\n",
        "  pad_along_height = max(filter_height - strides, 0)\n",
        "  pad_along_width = max(filter_width - strides, 0)\n",
        "  # compute actual padding values for each side\n",
        "  pad_top = pad_along_height // 2\n",
        "  pad_bottom = pad_along_height - pad_top\n",
        "  pad_left = pad_along_width // 2\n",
        "  pad_right = pad_along_width - pad_left\n",
        "  # apply mirror padding\n",
        "  x = tf.pad(x, [[0,0], [pad_top,pad_bottom], [pad_left,pad_right], [0,0]], mode='REFLECT')\n",
        "  # downsampling performed by strided conv\n",
        "  x = tf.nn.depthwise_conv2d(x, filter=filter, strides=[1,strides,strides,1], padding='VALID')\n",
        "  return x\n",
        "\n",
        "\n",
        "# First, create the bicubic kernel. This can be reused in multiple downsample operations\n",
        "k = build_filter(factor=4)\n",
        "\n",
        "# Downsample x which is a tensor with shape [N, H, W, 3]\n",
        "#y = apply_bicubic_downsample(x, filter=k, factor=4)\n",
        "\n",
        "# y now contains x downsampled to [N, H/4, W/4, 3]"
      ],
      "execution_count": 0,
      "outputs": []
    },
    {
      "cell_type": "code",
      "metadata": {
        "id": "W-thEAmADz_v",
        "colab_type": "code",
        "colab": {}
      },
      "source": [
        "def normalize(image):\n",
        "    image = tf.cast(image, dtype=tf.float32)\n",
        "    return 2.0*(image-tf.math.reduce_min(image))/(tf.math.reduce_max(image)-tf.math.reduce_min(image))-1.0"
      ],
      "execution_count": 0,
      "outputs": []
    },
    {
      "cell_type": "code",
      "metadata": {
        "id": "uhmkCloYxt47",
        "colab_type": "code",
        "colab": {}
      },
      "source": [
        "ds = tfds.load('oxford_iiit_pet')\n",
        "dim = tf.constant([224, 224], dtype=tf.int32)\n",
        "batch_size = 32\n",
        "num_epochs = 5\n",
        "\n",
        "ds_train = ds['train'].map(lambda ele: tf.image.resize_with_crop_or_pad(ele['image'], 224, 224))\n",
        "ds_train = ds_train.map(lambda x: tf.divide(tf.cast(x, tf.float32), 255))\n",
        "#ds_train = ds_train.map(normalize)\n",
        "ds_train = ds_train.repeat().batch(batch_size).prefetch(16)\n",
        "ds_train = ds_train.map(lambda x: (apply_bicubic_downsample(x, filter=k, factor=4), x))\n",
        "ds_test = ds['test'].map(lambda ele: tf.image.resize_with_crop_or_pad(ele['image'], 224, 224))\n",
        "ds_test = ds_test.map(lambda x: tf.divide(tf.cast(x, tf.float32), 255))\n",
        "\n",
        "#ds_test = ds_test.map(normalize)\n",
        "ds_test = ds_test.repeat().batch(batch_size).prefetch(16)\n",
        "ds_test = ds_test.map(lambda x: (apply_bicubic_downsample(x, filter=k, factor=4), x))"
      ],
      "execution_count": 0,
      "outputs": []
    },
    {
      "cell_type": "code",
      "metadata": {
        "id": "TqgkU9R6hkxz",
        "colab_type": "code",
        "colab": {}
      },
      "source": [
        "for x,y in ds_train: break\n",
        "\n",
        "fig,ax = plt.subplots(1, 2)\n",
        "ax[0].imshow(x[0].numpy())\n",
        "ax[1].imshow(y[0].numpy())\n",
        "\n",
        "plt.show()"
      ],
      "execution_count": 0,
      "outputs": []
    },
    {
      "cell_type": "code",
      "metadata": {
        "id": "5dk4dmZsFEQt",
        "colab_type": "code",
        "colab": {}
      },
      "source": [
        "ds_train = ds_train.map(lambda x, y:(normalize(x), normalize(y)))\n",
        "ds_test = ds_test.map(lambda x, y:(normalize(x), normalize(y)))\n"
      ],
      "execution_count": 0,
      "outputs": []
    },
    {
      "cell_type": "code",
      "metadata": {
        "id": "kv0F8KnmFVaD",
        "colab_type": "code",
        "colab": {}
      },
      "source": [
        "for xn,yn in ds_train: break\n",
        "\n",
        "fig,ax = plt.subplots(1, 2)\n",
        "ax[0].imshow(xn[0].numpy())\n",
        "ax[1].imshow(yn[0].numpy())\n",
        "\n",
        "plt.show()"
      ],
      "execution_count": 0,
      "outputs": []
    },
    {
      "cell_type": "code",
      "metadata": {
        "id": "L3lAfwPuxwsc",
        "colab_type": "code",
        "colab": {}
      },
      "source": [
        "class MySRResNet(tf.keras.Model):\n",
        "  def __init__(self):\n",
        "    super(MySRResNet, self).__init__(name='')\n",
        "    \n",
        "    # k9n64s1\n",
        "    self.conv1 = tf.keras.layers.Conv2D(64, 9, 1, padding='same')\n",
        "    self.prelu1 = tf.keras.layers.PReLU(alpha_initializer='zeros')\n",
        "    \n",
        "    # B residual blocks\n",
        "    # conv2_1, k3n64s1\n",
        "    self.conv21a = tf.keras.layers.Conv2D(64, 3, 1, padding='same')\n",
        "    self.bn21a = tf.keras.layers.BatchNormalization()\n",
        "    self.prelu21a = tf.keras.layers.PReLU(alpha_initializer='zeros')\n",
        "    self.conv21b = tf.keras.layers.Conv2D(64, 3, padding='same')\n",
        "    self.bn21b = tf.keras.layers.BatchNormalization()\n",
        "    \n",
        "    self.x21_append = tf.keras.layers.Conv2D(64, 1, 1, padding='same', use_bias=False)\n",
        "    self.bn_x21 = tf.keras.layers.BatchNormalization()\n",
        "\n",
        "     \n",
        "    # conv2_2, k3n64s1\n",
        "    self.conv22a = tf.keras.layers.Conv2D(64, 3, 1, padding='same')\n",
        "    self.bn22a = tf.keras.layers.BatchNormalization()\n",
        "    self.prelu22a = tf.keras.layers.PReLU(alpha_initializer='zeros')\n",
        "    self.conv22b = tf.keras.layers.Conv2D(64, 3, padding='same')\n",
        "    self.bn22b = tf.keras.layers.BatchNormalization()\n",
        "    \n",
        "    self.x22_append = tf.keras.layers.Conv2D(64, 1, 1, padding='same', use_bias=False)\n",
        "    self.bn_x22 = tf.keras.layers.BatchNormalization()\n",
        "\n",
        "    # conv2_3, k3n64s1\n",
        "    self.conv23a = tf.keras.layers.Conv2D(64, 3, 1, padding='same')\n",
        "    self.bn23a = tf.keras.layers.BatchNormalization()\n",
        "    self.prelu23a = tf.keras.layers.PReLU(alpha_initializer='zeros')\n",
        "    self.conv23b = tf.keras.layers.Conv2D(64, 3, padding='same')\n",
        "    self.bn23b = tf.keras.layers.BatchNormalization()\n",
        "    \n",
        "    self.x23_append = tf.keras.layers.Conv2D(64, 1, 1, padding='same', use_bias=False)\n",
        "    self.bn_x23 = tf.keras.layers.BatchNormalization()\n",
        "\n",
        "\n",
        "    # conv2_4, k3n64s1\n",
        "    self.conv24a = tf.keras.layers.Conv2D(64, 3, 1, padding='same')\n",
        "    self.bn24a = tf.keras.layers.BatchNormalization()\n",
        "    self.prelu24a = tf.keras.layers.PReLU(alpha_initializer='zeros')\n",
        "    self.conv24b = tf.keras.layers.Conv2D(64, 3, padding='same')\n",
        "    self.bn24b = tf.keras.layers.BatchNormalization()\n",
        "    \n",
        "    self.x24_append = tf.keras.layers.Conv2D(64, 1, 1, padding='same', use_bias=False)\n",
        "    self.bn_x24 = tf.keras.layers.BatchNormalization()\n",
        "\n",
        "\n",
        "    # conv2_5, k3n64s1 -- end of B residual block\n",
        "    self.conv25a = tf.keras.layers.Conv2D(64, 3, 1, padding='same')\n",
        "    self.bn25a = tf.keras.layers.BatchNormalization()\n",
        "    self.prelu25a = tf.keras.layers.PReLU(alpha_initializer='zeros')\n",
        "    self.conv25b = tf.keras.layers.Conv2D(64, 3, padding='same')\n",
        "    self.bn25b = tf.keras.layers.BatchNormalization()\n",
        "    \n",
        "    self.x25_append = tf.keras.layers.Conv2D(64, 1, 1, padding='same', use_bias=False)\n",
        "    self.bn_x25 = tf.keras.layers.BatchNormalization()\n",
        "\n",
        "\n",
        "    # conv3, k3n64s1\n",
        "    self.conv3 = tf.keras.layers.Conv2D(64, 3, 1, padding='same')\n",
        "    self.bn3 = tf.keras.layers.BatchNormalization()\n",
        "    self.x3_append = tf.keras.layers.Conv2D(64, 1, 1, padding='same', use_bias=False)\n",
        "    self.bn_x3 = tf.keras.layers.BatchNormalization()\n",
        "\n",
        "    # conv4_1, k3n256s1\n",
        "    self.conv41 = tf.keras.layers.Conv2D(256, 3, 1, padding='same')\n",
        "    self.prelu41 = tf.keras.layers.PReLU(alpha_initializer='zeros')\n",
        "    # conv4_2\n",
        "    self.conv42 = tf.keras.layers.Conv2D(256, 3, 1, padding='same')\n",
        "    self.prelu42 = tf.keras.layers.PReLU(alpha_initializer='zeros')\n",
        "\n",
        "    # conv5, k9n3s1\n",
        "    self.conv5 = tf.keras.layers.Conv2D(3, 9, 1, padding='same')\n",
        "\n",
        "    # self.avgpool = tf.keras.layers.AvgPool2D(3, 2)\n",
        "    # self.flatten = tf.keras.layers.Flatten()\n",
        "    # self.dense = tf.keras.layers.Dense(37, activation='softmax')\n",
        "\n",
        "    \n",
        "\n",
        "  def call(self, input_tensor, training=False):\n",
        "    input_tensor = self.conv1(input_tensor)\n",
        "    input_tensor = self.prelu1(input_tensor)\n",
        "    \n",
        "     # B residual blocks\n",
        "    # conv2_1, k3n64s1\n",
        "    x = self.conv21a(input_tensor)\n",
        "    x = self.bn21a(x)\n",
        "    x = self.prelu21a(x)                          \n",
        "    x = self.conv21b(x)                         \n",
        "    x = self.bn21b(x)                 \n",
        "    x_append = self.x21_append(input_tensor)\n",
        "    x += x_append                   \n",
        "    x21 = self.bn_x21(x)                 \n",
        "\n",
        "     \n",
        "    # conv2_2, k3n64s1\n",
        "    x = self.conv22a(x21)          \n",
        "    x = self.bn22a(x)               \n",
        "    x = self.prelu22a(x)                 \n",
        "    x = self.conv22b(x)          \n",
        "    x = self.bn22b(x)                  \n",
        "    x_append = self.x22_append(x21)\n",
        "    x += x_append                   \n",
        "    x22 = self.bn_x22(x)                 \n",
        "\n",
        "    # conv2_3, k3n64s1\n",
        "    x = self.conv23a(x22)         \n",
        "    x = self.bn23a(x)                \n",
        "    x = self.prelu23a(x)              \n",
        "    x = self.conv23b(x)          \n",
        "    x = self.bn23b(x)                \n",
        "    \n",
        "    x_append = self.x23_append(x22)\n",
        "    x += x_append           \n",
        "    x23 = self.bn_x23(x)                \n",
        "\n",
        "\n",
        "    # conv2_4, k3n64s1\n",
        "    x = self.conv24a(x23)           \n",
        "    x = self.bn24a(x)                \n",
        "    x = self.prelu24a(x)             \n",
        "    x = self.conv24b(x)          \n",
        "    x = self.bn24b(x)                \n",
        "    \n",
        "    x_append = self.x24_append(x23)\n",
        "    x += x_append              \n",
        "    x24 = self.bn_x24(x)                \n",
        "\n",
        "\n",
        "    # conv2_5, k3n64s1 -- end of B residual block\n",
        "    x = self.conv25a(x24)           \n",
        "    x = self.bn25a(x)                \n",
        "    x = self.prelu25a(x)             \n",
        "    x = self.conv25b(x)          \n",
        "    x = self.bn25b(x)                \n",
        "    \n",
        "    x_append = self.x25_append(x24)\n",
        "    x += x_append              \n",
        "    x25 = self.bn_x25(x)                \n",
        "\n",
        "\n",
        "    # conv3, k3n64s1\n",
        "    x = self.conv3(x25)        \n",
        "    x = self.bn3(x)                \n",
        "    x_append = self.x3_append(input_tensor)\n",
        "    x += x_append\n",
        "    x = self.bn_x3(x)      \n",
        "\n",
        "\n",
        "    # conv4_1, k3n256s1\n",
        "    x = self.conv41(x) \n",
        "    x = tf.nn.depth_to_space(x, block_size=2)               \n",
        "    x = self.prelu41(x)             \n",
        "    # conv4_2\n",
        "    x = self.conv42(x)\n",
        "    x = tf.nn.depth_to_space(x, block_size=2)               \n",
        "    x = self.prelu42(x)             \n",
        "\n",
        "    # conv5, k9n3s1\n",
        "    x = self.conv5(x)         \n",
        "    return x\n",
        "\n",
        "model = MySRResNet()\n",
        "#sgd = tf.keras.optimizers.SGD(lr=0.001, decay=1e-6, momentum=0.9, nesterov=True)\n",
        "adam = tf.keras.optimizers.Adam(\n",
        "    learning_rate=0.0001,\n",
        "    beta_1=0.9,\n",
        "    beta_2=0.999,\n",
        "    epsilon=1e-07,\n",
        "    amsgrad=False,\n",
        "    name='Adam',\n",
        ")\n",
        "model.compile(optimizer=adam,\n",
        "              loss='mse',\n",
        "              metrics=['accuracy'])"
      ],
      "execution_count": 0,
      "outputs": []
    },
    {
      "cell_type": "code",
      "metadata": {
        "id": "r4fiMu2pkTzv",
        "colab_type": "code",
        "colab": {}
      },
      "source": [
        "y_gen = model(x)\n",
        "plt.imshow(y_gen[0]*255)"
      ],
      "execution_count": 0,
      "outputs": []
    },
    {
      "cell_type": "code",
      "metadata": {
        "id": "o8PQBY_Didkp",
        "colab_type": "code",
        "colab": {}
      },
      "source": [
        "model.summary()"
      ],
      "execution_count": 0,
      "outputs": []
    },
    {
      "cell_type": "code",
      "metadata": {
        "id": "Ol6vMLgHuv_k",
        "colab_type": "code",
        "colab": {}
      },
      "source": [
        "from tensorflow.keras import models, optimizers, metrics\n",
        "def ssim(x, y, max_val=1.0):\n",
        "    return tf.image.ssim(x, y, max_val)\n",
        "\n",
        "def psnr(x, y, max_val=1.0):\n",
        "    return tf.image.psnr(x, y, max_val)\n",
        "\n",
        "optimizer = optimizers.Adam(learning_rate=0.0006,beta_1=0.9)\n",
        "loss = ['mse']\n",
        "metrics = [ssim, psnr]"
      ],
      "execution_count": 0,
      "outputs": []
    },
    {
      "cell_type": "code",
      "metadata": {
        "id": "9bDl9yXauuTn",
        "colab_type": "code",
        "colab": {}
      },
      "source": [
        "model.compile(optimizer=optimizer,\n",
        "              loss=loss,\n",
        "              metrics=metrics)"
      ],
      "execution_count": 0,
      "outputs": []
    },
    {
      "cell_type": "code",
      "metadata": {
        "id": "85KfoQiex9jW",
        "colab_type": "code",
        "colab": {}
      },
      "source": [
        "history = model.fit(ds_train, validation_data=ds_test, epochs=num_epochs)\n",
        "model.evaluate(ds_test)"
      ],
      "execution_count": 0,
      "outputs": []
    },
    {
      "cell_type": "code",
      "metadata": {
        "id": "L3fcRwrptlG5",
        "colab_type": "code",
        "colab": {}
      },
      "source": [
        "loss = history.history['loss']\n",
        "acc = history.history['accuracy']\n",
        "val_loss = history.history['val_loss']\n",
        "val_acc = history.history['val_accuracy']\n",
        "epochs = range(len(loss))\n",
        "\n",
        "import matplotlib.pyplot as plt\n",
        "plt.plot(epochs, loss, color='blue')\n",
        "plt.plot(epochs, val_loss, color='orange')"
      ],
      "execution_count": 0,
      "outputs": []
    },
    {
      "cell_type": "markdown",
      "metadata": {
        "id": "-o4_m9pA9hCE",
        "colab_type": "text"
      },
      "source": [
        "## Illustrate the training result on only 2 epoches"
      ]
    },
    {
      "cell_type": "code",
      "metadata": {
        "id": "OLQXy4VfzKul",
        "colab_type": "code",
        "colab": {}
      },
      "source": [
        "y = model.predict(x)\n",
        "\n",
        "fig,ax = plt.subplots(1, 2)\n",
        "ax[0].imshow(x[0])\n",
        "ax[1].imshow(y[0])\n",
        "\n",
        "\n",
        "plt.show()"
      ],
      "execution_count": 0,
      "outputs": []
    },
    {
      "cell_type": "code",
      "metadata": {
        "id": "gc7lpefr7-nq",
        "colab_type": "code",
        "colab": {}
      },
      "source": [
        ""
      ],
      "execution_count": 0,
      "outputs": []
    }
  ]
}